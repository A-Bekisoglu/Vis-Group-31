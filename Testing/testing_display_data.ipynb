{
 "cells": [
  {
   "cell_type": "code",
   "execution_count": 24,
   "metadata": {
    "pycharm": {
     "name": "#%%\n"
    }
   },
   "outputs": [],
   "source": [
    "import csv\n",
    "import pandas as pd"
   ]
  },
  {
   "cell_type": "markdown",
   "metadata": {
    "pycharm": {
     "name": "#%% md\n"
    }
   },
   "source": [
    "we have to delete:\n",
    "the column of country code\n",
    "modify the constuction year, price, service fee, minimum nights, no of reviews, review rate number, calc. host. list. count., availability to be int.\n"
   ]
  },
  {
   "cell_type": "code",
   "execution_count": 25,
   "metadata": {
    "pycharm": {
     "name": "#%%\n"
    }
   },
   "outputs": [],
   "source": [
    "df1 = pd.read_csv('Airbnb_Open_Data.csv', low_memory=False)"
   ]
  },
  {
   "cell_type": "code",
   "execution_count": 26,
   "metadata": {
    "pycharm": {
     "name": "#%%\n"
    }
   },
   "outputs": [],
   "source": [
    "df1 = df1.fillna(0)\n",
    "df1.rename(columns=lambda x: (x.replace(' ', '_')).lower(), inplace=True)\n",
    "df1['price'] = (df1['price'].replace({'\\$': '', ',': ''}, regex=True)).astype(int)\n",
    "df1['service_fee'] = (df1['service_fee'].replace({'\\$': '', ',': ''}, regex=True)).astype(int)\n",
    "\n",
    "df1 = df1.drop(['country', 'country_code'], axis = 1)\n"
   ]
  },
  {
   "cell_type": "code",
   "execution_count": 27,
   "metadata": {
    "pycharm": {
     "name": "#%%\n"
    }
   },
   "outputs": [],
   "source": [
    "df1['last_review'] = pd.to_datetime(df1.last_review)"
   ]
  },
  {
   "cell_type": "code",
   "execution_count": 41,
   "metadata": {},
   "outputs": [
    {
     "data": {
      "text/plain": [
       "id                                         int64\n",
       "name                                      object\n",
       "host_id                                    int64\n",
       "host_identity_verified                    object\n",
       "host_name                                 object\n",
       "neighbourhood_group                       object\n",
       "neighbourhood                             object\n",
       "lat                                      float64\n",
       "long                                     float64\n",
       "instant_bookable                          object\n",
       "cancellation_policy                       object\n",
       "room_type                                 object\n",
       "construction_year                          int64\n",
       "price                                      int64\n",
       "service_fee                                int64\n",
       "minimum_nights                             int64\n",
       "number_of_reviews                          int64\n",
       "last_review                       datetime64[ns]\n",
       "reviews_per_month                          int64\n",
       "review_rate_number                         int64\n",
       "calculated_host_listings_count             int64\n",
       "availability_365                           int64\n",
       "house_rules                               object\n",
       "license                                   object\n",
       "dtype: object"
      ]
     },
     "execution_count": 41,
     "metadata": {},
     "output_type": "execute_result"
    }
   ],
   "source": [
    "df1 = df1.astype({'minimum_nights' : int, 'number_of_reviews': int, 'reviews_per_month': int, 'review_rate_number': int, 'availability_365': int,\n",
    "                 'calculated_host_listings_count': int, 'construction_year' : int})\n",
    "df1.dtypes"
   ]
  }
 ],
 "metadata": {
  "kernelspec": {
   "display_name": "Python 3",
   "language": "python",
   "name": "python3"
  },
  "language_info": {
   "codemirror_mode": {
    "name": "ipython",
    "version": 3
   },
   "file_extension": ".py",
   "mimetype": "text/x-python",
   "name": "python",
   "nbconvert_exporter": "python",
   "pygments_lexer": "ipython3",
   "version": "3.8.8"
  }
 },
 "nbformat": 4,
 "nbformat_minor": 1
}
