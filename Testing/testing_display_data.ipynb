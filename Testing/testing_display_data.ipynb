{
 "cells": [
  {
   "cell_type": "code",
   "execution_count": 2,
   "metadata": {
    "collapsed": true,
    "pycharm": {
     "name": "#%%\n"
    }
   },
   "outputs": [],
   "source": [
    "import csv\n",
    "from typing import *\n",
    "import pandas as pd"
   ]
  },
  {
   "cell_type": "code",
   "execution_count": 3,
   "outputs": [
    {
     "name": "stderr",
     "output_type": "stream",
     "text": [
      "IOPub data rate exceeded.\n",
      "The notebook server will temporarily stop sending output\n",
      "to the client in order to avoid crashing it.\n",
      "To change this limit, set the config variable\n",
      "`--NotebookApp.iopub_data_rate_limit`.\n",
      "\n",
      "Current values:\n",
      "NotebookApp.iopub_data_rate_limit=1000000.0 (bytes/sec)\n",
      "NotebookApp.rate_limit_window=3.0 (secs)\n",
      "\n"
     ]
    }
   ],
   "source": [
    "def read_csv(path: str):\n",
    "    file = open(path, encoding='utf-8')\n",
    "    reader = csv.reader(file)\n",
    "\n",
    "    for line in reader:\n",
    "        print(line)\n",
    "\n",
    "read_csv('../Data/airbnb_open_data.csv')"
   ],
   "metadata": {
    "collapsed": false,
    "pycharm": {
     "name": "#%%\n"
    }
   }
  },
  {
   "cell_type": "markdown",
   "source": [
    "we have to delete:\n",
    "the column of country code\n",
    "modify the constuction year, price, service fee, minimum nights, no of reviews, review rate number, calc. host. list. count., availability to be int.\n"
   ],
   "metadata": {
    "collapsed": false,
    "pycharm": {
     "name": "#%% md\n"
    }
   }
  },
  {
   "cell_type": "code",
   "execution_count": 7,
   "outputs": [],
   "source": [
    "df1 = pd.read_csv('../Data/airbnb_open_data.csv', low_memory=False)"
   ],
   "metadata": {
    "collapsed": false,
    "pycharm": {
     "name": "#%%\n"
    }
   }
  },
  {
   "cell_type": "code",
   "execution_count": 11,
   "outputs": [
    {
     "data": {
      "text/plain": "            id                                name      host_id  \\\n11114  7139598  Cozy 1 BR on Bedford Avenue, Wburg  73023181304   \n\n      host_identity_verified  host_name neighbourhood_group neighbourhood  \\\n11114               verified  Christina            Brooklyn  Williamsburg   \n\n            lat      long        country  ... service_fee minimum_nights  \\\n11114  40.71764 -73.95689  United States  ...       $140             1.0   \n\n      number_of_reviews last_review  reviews_per_month review_rate_number  \\\n11114               1.0    1/3/2016               0.02                1.0   \n\n      calculated_host_listings_count  availability_365  \\\n11114                            1.0             191.0   \n\n                                             house_rules   license  \n11114  Dear Guest, Thank you for appreciating that I ...  41662/AL  \n\n[1 rows x 26 columns]",
      "text/html": "<div>\n<style scoped>\n    .dataframe tbody tr th:only-of-type {\n        vertical-align: middle;\n    }\n\n    .dataframe tbody tr th {\n        vertical-align: top;\n    }\n\n    .dataframe thead th {\n        text-align: right;\n    }\n</style>\n<table border=\"1\" class=\"dataframe\">\n  <thead>\n    <tr style=\"text-align: right;\">\n      <th></th>\n      <th>id</th>\n      <th>name</th>\n      <th>host_id</th>\n      <th>host_identity_verified</th>\n      <th>host_name</th>\n      <th>neighbourhood_group</th>\n      <th>neighbourhood</th>\n      <th>lat</th>\n      <th>long</th>\n      <th>country</th>\n      <th>...</th>\n      <th>service_fee</th>\n      <th>minimum_nights</th>\n      <th>number_of_reviews</th>\n      <th>last_review</th>\n      <th>reviews_per_month</th>\n      <th>review_rate_number</th>\n      <th>calculated_host_listings_count</th>\n      <th>availability_365</th>\n      <th>house_rules</th>\n      <th>license</th>\n    </tr>\n  </thead>\n  <tbody>\n    <tr>\n      <th>11114</th>\n      <td>7139598</td>\n      <td>Cozy 1 BR on Bedford Avenue, Wburg</td>\n      <td>73023181304</td>\n      <td>verified</td>\n      <td>Christina</td>\n      <td>Brooklyn</td>\n      <td>Williamsburg</td>\n      <td>40.71764</td>\n      <td>-73.95689</td>\n      <td>United States</td>\n      <td>...</td>\n      <td>$140</td>\n      <td>1.0</td>\n      <td>1.0</td>\n      <td>1/3/2016</td>\n      <td>0.02</td>\n      <td>1.0</td>\n      <td>1.0</td>\n      <td>191.0</td>\n      <td>Dear Guest, Thank you for appreciating that I ...</td>\n      <td>41662/AL</td>\n    </tr>\n  </tbody>\n</table>\n<p>1 rows × 26 columns</p>\n</div>"
     },
     "execution_count": 11,
     "metadata": {},
     "output_type": "execute_result"
    }
   ],
   "source": [
    "df1.rename(columns=lambda x: (x.replace(' ', '_')).lower(), inplace=True)\n",
    "int_columns = ['construction_year', 'minimum_nights', 'number_of_reviews', 'reviews_per_month', 'review_rate_number', 'calculated_host_listings_count', 'availability_365']\n",
    "str_columns = []\n",
    "\n",
    "df1.dropna()\n",
    "# df1.dropna()\n",
    "\n",
    "#\n",
    "# for col in int_columns:\n",
    "#     df1[col] = df1[col].astype(int)\n",
    "# df1"
   ],
   "metadata": {
    "collapsed": false,
    "pycharm": {
     "name": "#%%\n"
    }
   }
  }
 ],
 "metadata": {
  "kernelspec": {
   "display_name": "Python 3",
   "language": "python",
   "name": "python3"
  },
  "language_info": {
   "codemirror_mode": {
    "name": "ipython",
    "version": 2
   },
   "file_extension": ".py",
   "mimetype": "text/x-python",
   "name": "python",
   "nbconvert_exporter": "python",
   "pygments_lexer": "ipython2",
   "version": "2.7.6"
  }
 },
 "nbformat": 4,
 "nbformat_minor": 0
}